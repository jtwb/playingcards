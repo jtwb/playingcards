{
 "cells": [
  {
   "cell_type": "code",
   "execution_count": 1,
   "metadata": {
    "collapsed": true
   },
   "outputs": [],
   "source": [
    "%load_ext autoreload\n",
    "%autoreload 2"
   ]
  },
  {
   "cell_type": "code",
   "execution_count": 2,
   "metadata": {
    "collapsed": false
   },
   "outputs": [
    {
     "name": "stdout",
     "output_type": "stream",
     "text": [
      "100 loops, best of 3: 12.6 ms per loop\n"
     ]
    }
   ],
   "source": [
    "from lib.naive import run\n",
    "%timeit run(800)"
   ]
  },
  {
   "cell_type": "code",
   "execution_count": 4,
   "metadata": {
    "collapsed": false
   },
   "outputs": [
    {
     "name": "stdout",
     "output_type": "stream",
     "text": [
      "100 loops, best of 3: 5.43 ms per loop\n"
     ]
    }
   ],
   "source": [
    "%timeit run(800, deck_size=12)"
   ]
  },
  {
   "cell_type": "code",
   "execution_count": 5,
   "metadata": {
    "collapsed": false
   },
   "outputs": [
    {
     "name": "stdout",
     "output_type": "stream",
     "text": [
      "COLLISION FOUND!\n",
      "After 5737 steps\n",
      "(9, 3, 0, 8, 7, 10, 6, 4, 1, 5, 11, 2)\n",
      "Ran 6400 steps\n",
      "Found a collision!\n",
      "10 loops, best of 3: 46.9 ms per loop\n"
     ]
    }
   ],
   "source": [
    "%timeit run(6400, deck_size=12)"
   ]
  },
  {
   "cell_type": "code",
   "execution_count": 6,
   "metadata": {
    "collapsed": false
   },
   "outputs": [
    {
     "name": "stdout",
     "output_type": "stream",
     "text": [
      "1 loops, best of 3: 861 ms per loop\n"
     ]
    }
   ],
   "source": [
    "%timeit run(51200)"
   ]
  },
  {
   "cell_type": "code",
   "execution_count": 7,
   "metadata": {
    "collapsed": false
   },
   "outputs": [
    {
     "name": "stdout",
     "output_type": "stream",
     "text": [
      "COLLISION FOUND!\n",
      "After 33687 steps\n",
      "(1, 7, 11, 5, 6, 3, 2, 9, 10, 0, 8, 4)\n",
      "COLLISION FOUND!\n",
      "After 40681 steps\n",
      "(0, 3, 11, 4, 1, 7, 2, 8, 9, 5, 6, 10)\n",
      "Ran 51200 steps\n",
      "Found a collision!\n",
      "COLLISION FOUND!\n",
      "After 22922 steps\n",
      "(5, 0, 10, 11, 4, 8, 7, 3, 1, 6, 2, 9)\n",
      "COLLISION FOUND!\n",
      "After 29178 steps\n",
      "(7, 4, 0, 9, 5, 8, 1, 11, 6, 2, 10, 3)\n",
      "COLLISION FOUND!\n",
      "After 43747 steps\n",
      "(1, 11, 4, 0, 8, 6, 10, 7, 2, 5, 9, 3)\n",
      "COLLISION FOUND!\n",
      "After 44542 steps\n",
      "(2, 10, 8, 11, 9, 7, 0, 3, 1, 6, 5, 4)\n",
      "COLLISION FOUND!\n",
      "After 44567 steps\n",
      "(11, 9, 2, 4, 7, 1, 6, 3, 0, 5, 8, 10)\n",
      "COLLISION FOUND!\n",
      "After 51025 steps\n",
      "(0, 6, 11, 3, 9, 2, 5, 8, 1, 7, 4, 10)\n",
      "Ran 51200 steps\n",
      "Found a collision!\n",
      "COLLISION FOUND!\n",
      "After 20351 steps\n",
      "(0, 7, 5, 1, 11, 10, 2, 8, 6, 3, 4, 9)\n",
      "COLLISION FOUND!\n",
      "After 22621 steps\n",
      "(9, 5, 1, 4, 11, 10, 7, 0, 6, 3, 2, 8)\n",
      "COLLISION FOUND!\n",
      "After 43386 steps\n",
      "(0, 4, 5, 10, 7, 1, 2, 3, 9, 6, 11, 8)\n",
      "COLLISION FOUND!\n",
      "After 49860 steps\n",
      "(0, 6, 5, 9, 10, 3, 2, 1, 7, 4, 11, 8)\n",
      "Ran 51200 steps\n",
      "Found a collision!\n",
      "COLLISION FOUND!\n",
      "After 23628 steps\n",
      "(10, 9, 3, 7, 8, 5, 6, 11, 1, 2, 0, 4)\n",
      "Ran 51200 steps\n",
      "Found a collision!\n",
      "1 loops, best of 3: 410 ms per loop\n"
     ]
    }
   ],
   "source": [
    "%timeit run(51200, deck_size=12)"
   ]
  },
  {
   "cell_type": "code",
   "execution_count": 8,
   "metadata": {
    "collapsed": false
   },
   "outputs": [
    {
     "name": "stdout",
     "output_type": "stream",
     "text": [
      "1 loops, best of 3: 6.91 s per loop\n"
     ]
    }
   ],
   "source": [
    "%timeit run(409600)"
   ]
  },
  {
   "cell_type": "code",
   "execution_count": 9,
   "metadata": {
    "collapsed": false
   },
   "outputs": [
    {
     "data": {
      "text/plain": [
       "(0.015125, 0.015609375000000002, 0.015390625, 0.0163818359375, 0.0)"
      ]
     },
     "execution_count": 9,
     "metadata": {},
     "output_type": "execute_result"
    }
   ],
   "source": [
    "(12.1 / 800, 99.9 / 6400, 788.0 / 51200, 6710.0 / 409600, 0.0 / 3276800)"
   ]
  },
  {
   "cell_type": "code",
   "execution_count": 16,
   "metadata": {
    "collapsed": false
   },
   "outputs": [
    {
     "name": "stdout",
     "output_type": "stream",
     "text": [
      "Ran 819200 steps\n",
      "Did not find a collision\n"
     ]
    }
   ],
   "source": [
    "run(819200, verbose=True)"
   ]
  },
  {
   "cell_type": "code",
   "execution_count": null,
   "metadata": {
    "collapsed": false
   },
   "outputs": [],
   "source": [
    "run(3276800, verbose=True)"
   ]
  },
  {
   "cell_type": "code",
   "execution_count": null,
   "metadata": {
    "collapsed": true
   },
   "outputs": [],
   "source": []
  }
 ],
 "metadata": {
  "kernelspec": {
   "display_name": "Python 2",
   "language": "python",
   "name": "python2"
  },
  "language_info": {
   "codemirror_mode": {
    "name": "ipython",
    "version": 2
   },
   "file_extension": ".py",
   "mimetype": "text/x-python",
   "name": "python",
   "nbconvert_exporter": "python",
   "pygments_lexer": "ipython2",
   "version": "2.7.6"
  }
 },
 "nbformat": 4,
 "nbformat_minor": 0
}
